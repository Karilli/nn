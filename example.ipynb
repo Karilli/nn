{
 "cells": [
  {
   "cell_type": "code",
   "execution_count": 29,
   "metadata": {},
   "outputs": [
    {
     "name": "stdout",
     "output_type": "stream",
     "text": [
      "tensor([ 0.7000, -0.1500], grad_fn=<CatBackward0>)\n",
      "Loss: 0.6329023838043213\n",
      "Input (x): tensor([0.5000], requires_grad=True)\n",
      "After ReLU (x2): tensor([0.7000, 0.0000], grad_fn=<ReluBackward0>)\n",
      "Gradient of w11: tensor([-0.0577])\n",
      "Gradient of b11: tensor([-0.1154])\n",
      "Gradient of w12: tensor([0.])\n",
      "Gradient of b12: tensor([0.])\n",
      "Gradient of w21: tensor([0.1616])\n",
      "Gradient of w22: tensor([0.])\n",
      "Gradient of b21: tensor([0.2309])\n",
      "Gradient of w23: tensor([-0.1616])\n",
      "Gradient of w24: tensor([-0.])\n",
      "Gradient of b22: tensor([-0.2309])\n"
     ]
    }
   ],
   "source": [
    "import torch\n",
    "import torch.nn as nn\n",
    "\n",
    "x = torch.tensor([0.5], requires_grad=True)\n",
    "y = torch.tensor([0.0, 1.0])\n",
    "\n",
    "w11 = torch.tensor([0.1], requires_grad=True)\n",
    "b11 = torch.tensor([0.65], requires_grad=True)\n",
    "w12 = torch.tensor([-0.3], requires_grad=True)\n",
    "b12 = torch.tensor([0.0], requires_grad=True)\n",
    "\n",
    "x2 = torch.cat([x * w11 + b11, x * w12 + b12])\n",
    "x2 = torch.relu(x2)\n",
    "\n",
    "w21 = torch.tensor([-0.5], requires_grad=True)\n",
    "w22 = torch.tensor([0.3], requires_grad=True)\n",
    "b21 = torch.tensor([0.], requires_grad=True)\n",
    "w23 = torch.tensor([0.], requires_grad=True)\n",
    "w24 = torch.tensor([0.7], requires_grad=True)\n",
    "b22 = torch.tensor([-0.1], requires_grad=True)\n",
    "\n",
    "loss = torch.cat([x2[0] * w21 + x2[1] * w22 + b21, x2[0] * w23 + x2[1] * w24 + b22])\n",
    "loss = nn.CrossEntropyLoss()(torch.softmax(loss, dim=0), y)\n",
    "loss.backward()\n",
    "\n",
    "print(\"Loss:\", loss.item())\n",
    "print(\"Input (x):\", x)\n",
    "print(\"After ReLU (x2):\", x2)\n",
    "\n",
    "print(\"Gradient of w11:\", w11.grad)\n",
    "print(\"Gradient of b11:\", b11.grad)\n",
    "print(\"Gradient of w12:\", w12.grad)\n",
    "print(\"Gradient of b12:\", b12.grad)\n",
    "print(\"Gradient of w21:\", w21.grad)\n",
    "print(\"Gradient of w22:\", w22.grad)\n",
    "print(\"Gradient of b21:\", b21.grad)\n",
    "print(\"Gradient of w23:\", w23.grad)\n",
    "print(\"Gradient of w24:\", w24.grad)\n",
    "print(\"Gradient of b22:\", b22.grad)\n"
   ]
  }
 ],
 "metadata": {
  "kernelspec": {
   "display_name": "Python 3",
   "language": "python",
   "name": "python3"
  },
  "language_info": {
   "codemirror_mode": {
    "name": "ipython",
    "version": 3
   },
   "file_extension": ".py",
   "mimetype": "text/x-python",
   "name": "python",
   "nbconvert_exporter": "python",
   "pygments_lexer": "ipython3",
   "version": "3.10.12"
  }
 },
 "nbformat": 4,
 "nbformat_minor": 2
}
